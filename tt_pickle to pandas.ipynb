{
 "cells": [
  {
   "cell_type": "code",
   "execution_count": 1,
   "metadata": {
    "collapsed": true
   },
   "outputs": [],
   "source": [
    "#import everything I need\n",
    "import requests\n",
    "import pickle\n",
    "import numpy as np\n",
    "import pandas as pd\n",
    "from bs4 import BeautifulSoup"
   ]
  },
  {
   "cell_type": "code",
   "execution_count": 2,
   "metadata": {},
   "outputs": [],
   "source": [
    "class player: #class for players\n",
    "    def __init__(self):\n",
    "        self\n",
    "class game: #each object - a game between two players\n",
    "    def __init__(self):\n",
    "        self\n",
    "#functions for files    \n",
    "def writefile(file, data):\n",
    "    with open(file+'.pkl', 'wb') as output:\n",
    "        #save = data\n",
    "        pickle.dump(data, output, pickle.HIGHEST_PROTOCOL)\n",
    "        \n",
    "def readfile(file):\n",
    "    with open(file+'.pkl', 'rb') as input:\n",
    "        return(pickle.load(input))  \n",
    "    \n",
    "#returns dataframe with the general data on each player in the ttligapro database    \n",
    "def playerspkltopd(file):\n",
    "    players = readfile(file)\n",
    "    pzerodict = players[0].__dict__\n",
    "    columns = []\n",
    "    for value, key in zip(pzerodict.values(), pzerodict.keys()):\n",
    "        if str(type(value))==\"<class 'str'>\":\n",
    "            columns.append(key)\n",
    "            try:\n",
    "                c.update({key: []})\n",
    "            except: #occurs when the dictionary is not created yet\n",
    "                c = {key: []}\n",
    "            for pl in players:\n",
    "                c[key].append(pl.__dict__[key])\n",
    "    df = pd.DataFrame(data=c)\n",
    "    return(df)  \n",
    "def playspkltopd(file):\n",
    "    players = readfile(file)\n",
    "    for pl in players: #these five lines delete players, who haven't played a single match\n",
    "        try:\n",
    "            a = pl.against.values()\n",
    "        except:\n",
    "            players.remove(pl)\n",
    "    i=0\n",
    "    c1 = {}\n",
    "    for pl in players:\n",
    "        for p, k in zip(pl.against.values(), pl.against.keys()):\n",
    "            for m in range(len(p)):\n",
    "                o = [pl.id, k]\n",
    "                o += p[m]\n",
    "                c1.update({str(i): o})\n",
    "                i+=1    \n",
    "    df = pd.DataFrame(data=c1)\n",
    "    df.rename(index={0:'id1',1:'id2',2:'date',3:'tournament_name',\\\n",
    "                     4:'current_rating1',5:'current_rating2',6:'score_sets',7:'score_points',\\\n",
    "                    8:'rating_delta_for1'}, inplace=True)\n",
    "    df = df.T\n",
    "    dfplays = df\n",
    "    dfplayers1 = dfplayers.copy()\n",
    "    dfplayers2 = dfplayers.copy()\n",
    "    dfplayers1.columns = [i+'1' for i in dfplayers.columns]   \n",
    "    dfplayers2.columns = [i+'2' for i in dfplayers.columns]   \n",
    "    dfplays = pd.merge(dfplays, dfplayers2, on=['id2'])\n",
    "    dfplays = pd.merge(dfplays, dfplayers1, on=['id1'])\n",
    "    dfplays['won_sets'] = [a[0] for a in dfplays['score_sets']]\n",
    "    dfplays['lost_sets'] = [a[4] for a in dfplays['score_sets']]\n",
    "    return(dfplays)"
   ]
  },
  {
   "cell_type": "code",
   "execution_count": 3,
   "metadata": {},
   "outputs": [],
   "source": [
    "dfplayers = playerspkltopd('plfull')\n",
    "dfplays = playspkltopd('plfull')\n",
    "writefile('players_pandas', dfplayers)\n",
    "writefile('plays_pandas', dfplays)"
   ]
  }
 ],
 "metadata": {
  "kernelspec": {
   "display_name": "Python 3",
   "language": "python",
   "name": "python3"
  },
  "language_info": {
   "codemirror_mode": {
    "name": "ipython",
    "version": 3
   },
   "file_extension": ".py",
   "mimetype": "text/x-python",
   "name": "python",
   "nbconvert_exporter": "python",
   "pygments_lexer": "ipython3",
   "version": "3.6.3"
  }
 },
 "nbformat": 4,
 "nbformat_minor": 2
}
