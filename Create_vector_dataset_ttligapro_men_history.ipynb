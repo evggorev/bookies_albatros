{
 "cells": [
  {
   "cell_type": "code",
   "execution_count": null,
   "metadata": {
    "collapsed": true
   },
   "outputs": [],
   "source": [
    "#import everything I need\n",
    "import requests\n",
    "import pickle\n",
    "import numpy as np\n",
    "import pandas as pd\n",
    "from bs4 import BeautifulSoup\n",
    "from sklearn import datasets, linear_model\n",
    "from sklearn.metrics import mean_squared_error, r2_score"
   ]
  },
  {
   "cell_type": "code",
   "execution_count": null,
   "metadata": {
    "collapsed": true
   },
   "outputs": [],
   "source": [
    "class player: #class for players\n",
    "    def __init__(self):\n",
    "        self\n",
    "class game: #each object - a game between two players\n",
    "    def __init__(self):\n",
    "        self\n",
    "#functions for files    \n",
    "def writefile(file, data):\n",
    "    with open(file+'.pkl', 'wb') as output:\n",
    "        #save = data\n",
    "        pickle.dump(data, output, pickle.HIGHEST_PROTOCOL)\n",
    "        \n",
    "def readfile(file):\n",
    "    with open(file+'.pkl', 'rb') as input:\n",
    "        return(pickle.load(input))  \n",
    "\n",
    "#add nans to create an even matrix    \n",
    "def boolean_indexing(v, fillval=np.nan):\n",
    "    lens = np.array([len(item) for item in v])\n",
    "    mask = lens[:,None] > np.arange(lens.max())\n",
    "    out = np.full(mask.shape,fillval)\n",
    "    out[mask] = np.concatenate(v)\n",
    "    return out    "
   ]
  },
  {
   "cell_type": "code",
   "execution_count": null,
   "metadata": {
    "collapsed": true
   },
   "outputs": [],
   "source": [
    "df = readfile('plays_pandas_ttligapro_men_last_version')\n",
    "df = df.drop(['date1', 'date2', 'tournament_name', 'score_sets', 'score_points',\\\n",
    "        'name1', 'name2', 'login1', 'login2', 'fntrdate1', 'fntrdate2', 'day1', 'day2',\\\n",
    "             'year1', 'year2', 'month1', 'month2', 'fntrday1', 'fntrmonth1', 'fntryear1',\\\n",
    "             'fntrday2', 'fntrmonth2', 'fntryear2', 'ttligapro_liga', 'set_1_score', 'set_2_score',\\\n",
    "             'set_3_score', 'set_4_score', 'set_5_score'], axis=1)\n",
    "df = df.drop(['fntrrating1', 'fntrrating2', 'rating1', 'rating2', 'ranking1', 'ranking2'], axis=1) #data from the future=)\n",
    "#need to find current fntrratings and rankings, rankings' percentiles since the database is growing\n",
    "writefile('history_dataset_numeric', df)"
   ]
  },
  {
   "cell_type": "code",
   "execution_count": null,
   "metadata": {
    "collapsed": true
   },
   "outputs": [],
   "source": [
    "df = readfile('history_dataset_numeric')"
   ]
  },
  {
   "cell_type": "code",
   "execution_count": null,
   "metadata": {
    "collapsed": true
   },
   "outputs": [],
   "source": [
    "columns = ['current_rating1', 'current_rating2', 'rating_delta_for1', 'won_sets', 'lost_sets',\n",
    "       'ttligapro_liga_rating_min', 'ttligapro_liga_rating_max',\n",
    "       'set_1_score_1', 'set_1_score_2', 'set_points_1_total', 'set_2_score_1',\n",
    "       'set_2_score_2', 'set_points_2_total', 'set_3_score_1', 'set_3_score_2',\n",
    "       'set_points_3_total', 'set_4_score_1', 'set_4_score_2',\n",
    "       'set_points_4_total', 'set_5_score_1', 'set_5_score_2',\n",
    "       'set_points_5_total', 'total_points', 'dsf']"
   ]
  },
  {
   "cell_type": "code",
   "execution_count": null,
   "metadata": {},
   "outputs": [],
   "source": [
    "#inefficient (takes several minutes) because of the loops, but works\n",
    "for c in columns:\n",
    "    print(c)\n",
    "    df[c+'_vector'] = np.empty((len(df), 0)).tolist()\n",
    "    for j in df['id12'].unique():\n",
    "        s = []\n",
    "        s1 = []\n",
    "        for i in df[df['id12']==j].sort_values(['year', 'month', 'day']).iterrows():\n",
    "            s.append(i[1][c])\n",
    "            s1.append(s.copy())\n",
    "            df.set_value(i[0], c+'_vector', s1.copy())\n",
    "    writefile('history_dataset_numeric_full', df)        "
   ]
  }
 ],
 "metadata": {
  "kernelspec": {
   "display_name": "Python 3",
   "language": "python",
   "name": "python3"
  },
  "language_info": {
   "codemirror_mode": {
    "name": "ipython",
    "version": 3
   },
   "file_extension": ".py",
   "mimetype": "text/x-python",
   "name": "python",
   "nbconvert_exporter": "python",
   "pygments_lexer": "ipython3",
   "version": "3.6.3"
  }
 },
 "nbformat": 4,
 "nbformat_minor": 2
}
