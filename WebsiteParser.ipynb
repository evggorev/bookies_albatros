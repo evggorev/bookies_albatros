{
 "cells": [
  {
   "cell_type": "code",
   "execution_count": null,
   "metadata": {},
   "outputs": [],
   "source": [
    "#imports all the needed packages\n",
    "import requests\n",
    "from bs4 import BeautifulSoup\n",
    "from selenium import webdriver\n",
    "import time\n",
    "import numpy as np\n",
    "import pandas as pd\n",
    "from sqlalchemy import *\n",
    "import threading\n",
    "from datetime import datetime\n",
    "import networkx\n",
    "from odo import odo"
   ]
  },
  {
   "cell_type": "code",
   "execution_count": null,
   "metadata": {},
   "outputs": [],
   "source": [
    "#defines the functions that are used later\n",
    "def get_html(browser):\n",
    "    form = browser.find_elements_by_css_selector('#main > div > div:nth-child(3n)')\n",
    "    html = form[0].get_attribute('innerHTML')\n",
    "    bs = BeautifulSoup(html, 'html.parser')\n",
    "    cups = bs(\"table\")[0].findAll(\"tbody\")\n",
    "    return cups\n",
    "def parse_the_table(cups):\n",
    "    #create an empty table\n",
    "    int_time = datetime.now()\n",
    "    t_names = ['date', 'time', 'cup', 'players', 'set', 'score0', 'score1', 'one1', 'two1', 'hcap1', 'one2', 'hcap2', \\\n",
    "                'two2', 'total', 'o', 'u', 'extras']\n",
    "    table = pd.DataFrame(columns = t_names)\n",
    "    #fill in the table\n",
    "    cnt = 0\n",
    "    for b in range(len(cups)):\n",
    "        rows = cups[b].findAll('tr')\n",
    "        cols0 = rows[0].findAll('th')\n",
    "        colnames = t_names[6:len(t_names)]\n",
    "        cup_name = cols0[0].findAll('span', {\"class\":\"table__title-text\"})[0].string #! ('span)[1] for tennis and ('span)[2] for table-tennis\n",
    "        for r in range(1, len(rows)):\n",
    "            l = len(rows[r].findAll('td')[1].findAll('a'))\n",
    "            table.loc[cnt, 'date'] = int_time.date().strftime('%Y-%m-%d %H:%M:%S')\n",
    "            table.loc[cnt, 'time'] = int_time.time().strftime('%Y-%m-%d %H:%M:%S')\n",
    "            table.loc[cnt, 'cup'] = cup_name\n",
    "            if l != 0:\n",
    "                cols1 = rows[r].findAll('td')\n",
    "                players = cols1[1].findAll('div')[0]('a')[0].string #contains the string with the players\n",
    "                table.loc[cnt, 'players'] = players\n",
    "                table.loc[cnt, 'set'] = None\n",
    "                score_list = cols1[1].findAll('div')[1].findAll('div',{\"class\":\"table__score\"})[0].findAll(\"span\")\n",
    "                table.loc[cnt, 'score0'] = score_list[0].string\n",
    "                table.loc[cnt, 'score1'] = score_list[1].string #might be different for tennis\n",
    "                for c in range(2, len(cols1)):\n",
    "                    table.loc[cnt, colnames[c-1]] = cols1[c].string\n",
    "            else:\n",
    "                table.loc[cnt, 'players'] = None\n",
    "                cols2 = rows[r].findAll('td')\n",
    "                set_num = cols2[1].findAll('div')[0].contents[2]  #contains the set's number\n",
    "                table.loc[cnt, 'set'] = set_num\n",
    "                ###set_score = cols2[1].findAll('div')[1].span.string #contains the set score\n",
    "                score_list = cols2[1].findAll('div')[1].findAll(\"span\")\n",
    "                if len(score_list) == 1:       #---Base case version\n",
    "                    table.loc[cnt, 'score0'] = score_list[0].string\n",
    "                    table.loc[cnt, 'score1'] = None\n",
    "                elif len(score_list) == 2:\n",
    "                    table.loc[cnt, 'score0'] = score_list[0].string\n",
    "                    table.loc[cnt, 'score1'] = score_list[1].string\n",
    "                else:\n",
    "                    table.loc[cnt, 'score0'] = None\n",
    "                    table.loc[cnt, 'score1'] = None\n",
    "                for c in range(2, len(cols2)):\n",
    "                    table.loc[cnt, colnames[c-1]] = cols2[c].string\n",
    "            cnt += 1\n",
    "    return table\n",
    "def connect_to_google_sql(conn_string):\n",
    "    try:\n",
    "        engine = create_engine(conn_string, echo=True)\n",
    "        conn = engine.connect()\n",
    "        return [engine, conn]\n",
    "    except:\n",
    "        print('An error occurred!')\n",
    "        return [None]\n",
    "def close_google_cloud_conn(cn):\n",
    "    if len(cn) == 2:\n",
    "        cn[1].close()\n",
    "        cn[0].dispose()\n",
    "def get_table(browser):\n",
    "    x0 = time.time()\n",
    "    cups = get_html(browser)\n",
    "    table = parse_the_table(cups)\n",
    "    return table\n",
    "def init_container():\n",
    "    t_names = ['date', 'time', 'cup', 'players', 'set', 'score0', 'score1', 'one1', 'two1', 'hcap1', 'one2', 'hcap2', \\\n",
    "                    'two2', 'total', 'o', 'u', 'extras']\n",
    "    container = pd.DataFrame(columns = t_names)\n",
    "    return container\n",
    "def update_container(container, table):\n",
    "    arr = [container, table]\n",
    "    new_cont = pd.concat(arr)\n",
    "    return new_cont"
   ]
  },
  {
   "cell_type": "code",
   "execution_count": null,
   "metadata": {},
   "outputs": [],
   "source": [
    "#launches the Chrome driver\n",
    "browser = webdriver.Chrome('path/to/chromedriver.exe')\n",
    "ref = ''\n",
    "browser.get(ref)"
   ]
  },
  {
   "cell_type": "code",
   "execution_count": null,
   "metadata": {},
   "outputs": [],
   "source": [
    "#checks if you can get the information table\n",
    "table = get_table(browser)\n",
    "table"
   ]
  },
  {
   "cell_type": "code",
   "execution_count": null,
   "metadata": {},
   "outputs": [],
   "source": [
    "#collects the info tables every second and stores them in variable \"container\"\n",
    "iterations = 60 * 60 * 2\n",
    "container = init_container()\n",
    "for i in range(iterations):\n",
    "    try:\n",
    "        table = get_table(browser)\n",
    "        time.sleep(0.9)\n",
    "        container = update_container(container, table)\n",
    "        print('Iteration: ' + str(i) + '. ' + str(len(table)) + ' rows inserted.')\n",
    "    except:\n",
    "        print('Some error occurred on iteration ' + str(i))"
   ]
  },
  {
   "cell_type": "code",
   "execution_count": null,
   "metadata": {},
   "outputs": [],
   "source": [
    "#sends the data to Google Cloud SQL\n",
    "t0 = time.time()\n",
    "t = odo(container, 'sql_path_string')\n",
    "print(str(len(container)) + ' rows inserted. Time elapsed: ' + str(time.time() - t0))"
   ]
  },
  {
   "cell_type": "code",
   "execution_count": null,
   "metadata": {},
   "outputs": [],
   "source": [
    "#or just saves it as a .xlsx file\n",
    "container.to_excel('path/to/where/you/want/to/store/it/container.xlsx')"
   ]
  }
 ],
 "metadata": {
  "kernelspec": {
   "display_name": "Python 3",
   "language": "python",
   "name": "python3"
  },
  "language_info": {
   "codemirror_mode": {
    "name": "ipython",
    "version": 3
   },
   "file_extension": ".py",
   "mimetype": "text/x-python",
   "name": "python",
   "nbconvert_exporter": "python",
   "pygments_lexer": "ipython3",
   "version": "3.6.4"
  }
 },
 "nbformat": 4,
 "nbformat_minor": 2
}
