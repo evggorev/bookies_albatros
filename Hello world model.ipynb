{
 "cells": [
  {
   "cell_type": "code",
   "execution_count": 1,
   "metadata": {
    "collapsed": true
   },
   "outputs": [],
   "source": [
    "#import everything I need\n",
    "import requests\n",
    "import pickle\n",
    "import numpy as np\n",
    "import pandas as pd\n",
    "from bs4 import BeautifulSoup\n",
    "from sklearn import datasets, linear_model\n",
    "from sklearn.metrics import mean_squared_error, r2_score"
   ]
  },
  {
   "cell_type": "code",
   "execution_count": 2,
   "metadata": {
    "collapsed": true
   },
   "outputs": [],
   "source": [
    "class player: #class for players\n",
    "    def __init__(self):\n",
    "        self\n",
    "class game: #each object - a game between two players\n",
    "    def __init__(self):\n",
    "        self\n",
    "#functions for files    \n",
    "def writefile(file, data):\n",
    "    with open(file+'.pkl', 'wb') as output:\n",
    "        #save = data\n",
    "        pickle.dump(data, output, pickle.HIGHEST_PROTOCOL)\n",
    "        \n",
    "def readfile(file):\n",
    "    with open(file+'.pkl', 'rb') as input:\n",
    "        return(pickle.load(input))  "
   ]
  },
  {
   "cell_type": "code",
   "execution_count": 3,
   "metadata": {},
   "outputs": [],
   "source": [
    "df = readfile('plays_pandas')\n",
    "df['dsf']=(pd.to_numeric(df['won_sets'])-pd.to_numeric(df['lost_sets']))\n",
    "df['current_rating1']=pd.to_numeric(df['current_rating1'])\n",
    "df['current_rating2']=pd.to_numeric(df['current_rating2'])\n",
    "writefile('plays_pandas',df)"
   ]
  },
  {
   "cell_type": "code",
   "execution_count": 4,
   "metadata": {},
   "outputs": [],
   "source": [
    "df = readfile('plays_pandas')\n",
    "dflp = df[df.tournament_name.str.contains('лига')&~df.tournament_name.str.contains('Премьер')\\\n",
    "                &~df.tournament_name.str.contains('премьер')&~df.tournament_name.str.contains('супер')\\\n",
    "                &~df.tournament_name.str.contains('Супер')&~df.tournament_name.str.contains('жен')]\n",
    "df_test = dflp[dflp.date.str.contains('07.2018')|dflp.date.str.contains('06.2018')|\\\n",
    "               dflp.date.str.contains('05.2018')|dflp.date.str.contains('04.2018')]\n",
    "df_train = dflp[~(dflp.date.str.contains('07.2018')|dflp.date.str.contains('06.2018')\\\n",
    "                  |dflp.date.str.contains('05.2018'))|dflp.date.str.contains('04.2018')]"
   ]
  },
  {
   "cell_type": "code",
   "execution_count": 5,
   "metadata": {},
   "outputs": [],
   "source": [
    "df_train_x = df_train[['current_rating1','current_rating2']]\n",
    "df_train_y = df_train[['dsf']]\n",
    "df_test_x = df_test[['current_rating1','current_rating2']]\n",
    "df_test_y = df_test[['dsf']]"
   ]
  },
  {
   "cell_type": "code",
   "execution_count": 6,
   "metadata": {},
   "outputs": [
    {
     "name": "stdout",
     "output_type": "stream",
     "text": [
      "Coefficients: \n",
      " [[ 0.0068521 -0.0068521]]\n",
      "Mean squared error: 4.14\n",
      "Variance score: 0.03\n"
     ]
    }
   ],
   "source": [
    "regr = linear_model.LinearRegression() #A non-binary probit model is more suitable here\n",
    "regr.fit(df_train_x, df_train_y)\n",
    "df_pred_y = regr.predict(df_test_x)\n",
    "print('Coefficients: \\n', regr.coef_)\n",
    "print(\"Mean squared error: %.2f\"\n",
    "      % mean_squared_error(df_test_y, df_pred_y))\n",
    "print('Variance score: %.2f' % r2_score(df_test_y, df_pred_y))"
   ]
  },
  {
   "cell_type": "code",
   "execution_count": null,
   "metadata": {
    "collapsed": true
   },
   "outputs": [],
   "source": []
  }
 ],
 "metadata": {
  "kernelspec": {
   "display_name": "Python 3",
   "language": "python",
   "name": "python3"
  },
  "language_info": {
   "codemirror_mode": {
    "name": "ipython",
    "version": 3
   },
   "file_extension": ".py",
   "mimetype": "text/x-python",
   "name": "python",
   "nbconvert_exporter": "python",
   "pygments_lexer": "ipython3",
   "version": "3.6.3"
  }
 },
 "nbformat": 4,
 "nbformat_minor": 2
}
