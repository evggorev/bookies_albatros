{
 "cells": [
  {
   "cell_type": "code",
   "execution_count": 1,
   "metadata": {
    "collapsed": true
   },
   "outputs": [],
   "source": [
    "#import everything I need\n",
    "import requests\n",
    "import numpy as np\n",
    "import pandas as pd\n",
    "from bs4 import BeautifulSoup"
   ]
  },
  {
   "cell_type": "code",
   "execution_count": 2,
   "metadata": {
    "collapsed": true
   },
   "outputs": [],
   "source": [
    "class player: #class for players\n",
    "    def __init__(self):\n",
    "        self\n",
    "class game: #each object - a game between two players\n",
    "    def __init__(self):\n",
    "        self\n",
    "        \n",
    "#Takes an integer number of a tournament (you can get it from the tournament url, and the numbers are consecutive) \n",
    "#Changes (creates) global list of all players in the tournament\n",
    "#There are a couple tournaments on the site in another format, the function might not work for them (!!!)\n",
    "def tournament(number): \n",
    "    global players\n",
    "    #Parse the tournament page and create a table\n",
    "    tournpage = requests.get('http://tt-liga.pro/tours/'+str(number))\n",
    "    tournpage = BeautifulSoup(tournpage.text, 'html.parser')\n",
    "    rows = tournpage.table.findAll('tr')[1:]\n",
    "    table = [[cell.string.strip() for cell in row('td')] \n",
    "             for row in rows]\n",
    "    players = [] #list of players\n",
    "    a = [] #list of links to get players' ids\n",
    "    for p in tournpage.table('a'):\n",
    "        a.append(p['href'][8:]) #contains id of each player\n",
    "    for i in range(len(table)):\n",
    "        p = player() #create player object\n",
    "        p.name = table[i][1] #add name\n",
    "        p.rating = table[i][3] #add rating\n",
    "        p.id = a[i] #add id\n",
    "        players.append(p) \n",
    "#for two string player ids parses page with history of their games\n",
    "def getplays(a,b):\n",
    "    global page\n",
    "    page = requests.get('http://tt-liga.pro/statistics/'+a+'?vs='+b)\n",
    "    page = BeautifulSoup(page.text, 'html.parser')\n",
    "#gets the data about previous games between all the players in the tournament    \n",
    "def createplaystable():\n",
    "    global players, page\n",
    "    for i in range(len(players)):\n",
    "        for j in range(len(players)):\n",
    "            if j!=i: #I build two tables for each pair of players (numbers differ by sign)\n",
    "                getplays(players[i].id, players[j].id)\n",
    "                try:\n",
    "                    rows = page('table')[0].findAll('tr')[1:-1]\n",
    "                    table = [[cell.string for cell in row('td')[:-2]] for row in rows] #without the last two columns for now\n",
    "                except: #occurs if there were no games between the players\n",
    "                    table = 'None'\n",
    "                try:\n",
    "                    players[i].against.update({players[j].id: table})\n",
    "                except: #occurs when players[i].against is not yet created\n",
    "                    players[i].against = {players[j].id: table}\n",
    "#takes players' ordinal numbers and returns a vector 'differences in sets factor' for all the previous games                  \n",
    "def diffsetsfactor(n1, n2):\n",
    "    global players\n",
    "    dsf = []\n",
    "    for a in players[n1].against[players[n2].id]:\n",
    "        if a!='None':\n",
    "            w = int(a[4][0]) #sets won\n",
    "            l = int(a[4][-1]) #sets lost\n",
    "            dsf.append(w-l)\n",
    "    return(dsf)   \n",
    "#creates game objects\n",
    "def creategamesdata():\n",
    "    global players, games\n",
    "    games = [] #list of games\n",
    "    for i in range(len(players)):\n",
    "        for j in range(i+1,len(players)): #just one game for each pair of players\n",
    "            g = game() #create game object\n",
    "            g.id1 = players[i].id #id of the first player\n",
    "            g.id2 = players[j].id #id of the second player\n",
    "            g.dsf = diffsetsfactor(i,j) #vector of differences in sets in all the previous games between the players\n",
    "            games.append(g) "
   ]
  },
  {
   "cell_type": "code",
   "execution_count": 3,
   "metadata": {},
   "outputs": [
    {
     "name": "stdout",
     "output_type": "stream",
     "text": [
      " 110 80   57     2 +0.00 [-1, 1]\n",
      " 110 80   568    2 -0.50 [-3, 2]\n",
      " 110 80   550   13 -0.62 [-3, -3, -3, -3, 2, 2, 2, 1, -2, 2, 1, -2, -2]\n",
      " 110 80   582    9 +0.11 [-3, -1, -3, 1, 2, 1, 3, -2, 3]\n",
      " 110 57   568    2 +1.50 [2, 1]\n",
      " 110 57   550    1 +3.00 [3]\n",
      " 110 57   582    1 +2.00 [2]\n",
      " 110 568  550    2 +1.00 [1, 1]\n",
      " 110 568  582    4 -1.25 [-1, -1, -2, -1]\n",
      " 110 550  582   11 +1.09 [3, -3, 1, 3, 1, 2, 2, 2, 2, -2, 1]\n",
      " 236 588  216    8 +0.88 [2, 3, 1, 1, 1, -1, -1, 1]\n",
      " 236 588  589   17 -0.29 [-1, -1, 2, 1, 2, -1, -2, -3, -2, 3, -2, 2, -1, 3, -3, -3, 1]\n",
      " 236 588  584   10 -1.20 [-1, 0, -1, -2, -3, 1, -1, -2, -2, -1]\n",
      " 236 588  40     5 +1.00 [1, 2, 3, -3, 2]\n",
      " 236 216  589    1 +3.00 [3]\n",
      " 236 216  584    6 -1.33 [-4, 1, -3, -2, 2, -2]\n",
      " 236 216  40     2 +0.00 [2, -2]\n",
      " 236 589  584    8 +0.50 [2, 1, 2, 2, 1, -2, -3, 1]\n",
      " 236 589  40     2 +2.00 [2, 2]\n",
      " 236 584  40     5 +1.80 [3, 3, 2, -2, 3]\n",
      "1101 519  524   15 -0.27 [-3, 1, -1, -1, -1, -2, -3, 3, -1, 1, 1, -1, 1, -1, 3]\n",
      "1101 519  554   27 -0.07 [-2, 2, 1, -1, -3, 1, -1, -3, 1, -3, 1, 3, -3, 1, -3, 1, -1, 3, 2, 3, 2, -1, 2, -2, 2, -1, -3]\n",
      "1101 519  327   29 +0.14 [3, 1, 2, -3, -3, 3, -2, -2, -2, 3, 2, 2, -3, -2, -2, -1, 1, 1, -1, 2, -2, 2, 2, 3, 0, -3, -1, 2, 2]\n",
      "1101 519  577    1 +2.00 [2]\n",
      "1101 524  554   21 -0.38 [1, 1, -1, 3, 1, 1, -3, 1, -3, -1, 3, -3, -2, -3, -3, 2, -2, 3, 1, -2, -2]\n",
      "1101 524  327   16 +0.62 [1, -2, -2, -1, 1, 3, -3, 2, 2, 2, 3, 2, -1, -1, 2, 2]\n",
      "1101 524  577    5 +1.40 [1, 2, 1, 1, 2]\n",
      "1101 554  327   29 -0.17 [-2, 3, 2, 2, 2, -1, -2, -3, -2, 2, 2, -1, 2, 2, 1, 1, -2, -1, 1, -3, -3, -1, -3, -3, 1, -2, -1, 3, 1]\n",
      "1101 554  577    2 -0.50 [1, -2]\n",
      "1101 327  577    9 +1.67 [-3, 1, 3, 2, 2, 2, 2, 3, 3]\n",
      " 789 227  205   20 -0.35 [-2, -1, -1, 1, -2, 1, -3, 3, -1, -3, -1, 2, 3, -3, 3, -2, 1, -2, 1, -1]\n",
      " 789 227  605   26 +0.15 [1, -3, -1, -3, 1, 1, -3, 1, 3, -2, 2, -2, -3, 2, -1, 3, 2, -2, 3, -1, 3, 2, 2, -3, 1, 1]\n",
      " 789 227  580   20 +1.15 [1, 2, -2, 1, 1, 1, -3, 1, 2, 2, 2, 2, 3, 2, 2, 3, -1, 2, 1, 1]\n",
      " 789 227  528    8 +2.12 [3, 3, 3, -2, 3, 3, 2, 2]\n",
      " 789 205  605   13 -0.23 [-3, 1, -1, -1, 2, 2, 1, 1, 1, -3, -1, -3, 1]\n",
      " 789 205  580   12 +1.83 [3, 3, 2, 2, 1, 2, 3, 1, 1, -1, 2, 3]\n",
      " 789 205  528   24 +0.04 [1, 2, 2, -2, -1, 3, -1, -2, 1, -1, 1, 2, -2, 3, -2, 1, -3, 2, 2, 1, -2, 1, -3, -2]\n",
      " 789 605  580   25 +1.20 [1, 1, 2, -3, 2, -1, 1, -1, 2, 3, 2, -1, 3, 2, 3, 3, 3, 2, -1, 3, 1, -2, 1, 2, 2]\n",
      " 789 605  528    4 +1.50 [1, 3, -1, 3]\n",
      " 789 580  528   15 +0.47 [1, -1, 2, -1, -1, 1, 2, 1, -1, 3, 1, 3, 2, -3, -2]\n",
      " 634 785  554    5 +1.20 [-1, -1, 3, 3, 2]\n",
      " 634 785  787   16 +0.19 [2, 2, 2, 1, 1, -2, -1, -2, -3, 1, 3, -1, 2, -2, -1, 1]\n",
      " 634 785  327    3 -0.67 [-2, -1, 1]\n",
      " 634 785  519    7 +1.71 [3, 3, 2, 2, 1, 2, -1]\n",
      " 634 554  787   28 -0.36 [-2, -2, -3, -3, -2, 2, 1, 1, 2, -1, -1, -3, -2, 2, 1, -3, -1, -1, 1, 1, -2, 1, 3, -1, -2, 3, 2, -1]\n",
      " 634 554  327   29 -0.17 [-2, 3, 2, 2, 2, -1, -2, -3, -2, 2, 2, -1, 2, 2, 1, 1, -2, -1, 1, -3, -3, -1, -3, -3, 1, -2, -1, 3, 1]\n",
      " 634 554  519   27 +0.07 [2, -2, -1, 1, 3, -1, 1, 3, -1, 3, -1, -3, 3, -1, 3, -1, 1, -3, -2, -3, -2, 1, -2, 2, -2, 1, 3]\n",
      " 634 787  327   13 +1.08 [3, 2, 3, 1, 1, 2, 2, 3, 1, 1, -1, -2, -2]\n",
      " 634 787  519   11 +1.00 [2, 3, -1, 2, 2, -2, 1, 2, 1, 2, -1]\n",
      " 634 327  519   29 -0.14 [-3, -1, -2, 3, 3, -3, 2, 2, 2, -3, -2, -2, 3, 2, 2, 1, -1, -1, 1, -2, 2, -2, -3, -2, 0, 3, 1, -2, -2]\n"
     ]
    }
   ],
   "source": [
    "for i in [110, 236, 1101, 789, 634]: #check for some random tournaments\n",
    "    tournament(i)\n",
    "    createplaystable()\n",
    "    creategamesdata()\n",
    "    for g in games:\n",
    "           print('{:4d} {:4s} {:4s} {:3d} {:+1.2f}'.format(i, g.id1, g.id2, len(g.dsf), np.mean(g.dsf)), g.dsf)"
   ]
  },
  {
   "cell_type": "code",
   "execution_count": 4,
   "metadata": {},
   "outputs": [
    {
     "name": "stdout",
     "output_type": "stream",
     "text": [
      "1148 405  242    2 -1.50 [0, -3]\n",
      "1148 405  314    1 +0.00 [0]\n",
      "1148 405  258    1 +0.00 [0]\n",
      "1148 242  314    1 +0.00 [0]\n",
      "1148 242  258    1 +0.00 [0]\n",
      "1148 314  258    1 +0.00 [0]\n",
      "1149 97   605   11 +0.27 [0, 2, -3, -1, 1, -1, -2, 3, -1, 2, 3]\n",
      "1149 97   791    5 +1.00 [0, -1, 3, 2, 1]\n",
      "1149 97   985    5 -0.20 [0, 2, -2, -2, 1]\n",
      "1149 97   653    1 +0.00 [0]\n",
      "1149 605  791    4 +0.75 [0, 2, -1, 2]\n",
      "1149 605  985   16 +0.56 [0, 3, -2, -3, 1, 3, 3, 1, -2, -3, 3, 2, 3, 1, 2, -3]\n",
      "1149 605  653    1 +0.00 [0]\n",
      "1149 791  985    3 -1.67 [0, -3, -2]\n",
      "1149 791  653    1 +0.00 [0]\n",
      "1149 985  653    1 +0.00 [0]\n",
      "1150 139  651    6 -0.50 [0, -2, -3, -3, 3, 2]\n",
      "1150 139  564   12 +1.17 [0, -1, 3, 1, 3, 2, -1, -2, 2, 3, 2, 2]\n",
      "1150 139  693    8 -0.75 [0, 1, -3, 1, 3, -2, -3, -3]\n",
      "1150 139  559    9 +0.67 [0, 2, 2, -1, 2, -3, 3, -2, 3]\n",
      "1150 651  564   24 -0.33 [0, 0, -1, -1, 1, -2, 2, 1, -2, 2, -3, 1, -2, -1, 1, -2, 1, -1, 1, -1, -3, -2, 1, 2]\n",
      "1150 651  693    8 +0.88 [0, 1, -1, 3, 2, -1, 1, 2]\n",
      "1150 651  559   14 +0.43 [0, -2, 2, 2, 2, 1, 3, 1, -3, 1, 2, -1, -3, 1]\n",
      "1150 564  693   11 +0.27 [0, 1, 2, 3, 3, -3, -1, -3, 3, -1, -1]\n",
      "1150 564  559    7 -0.14 [0, 1, 2, 3, -2, -2, -3]\n",
      "1150 693  559   10 +0.70 [0, 2, 2, -1, 2, 3, 2, -3, 1, -1]\n"
     ]
    }
   ],
   "source": [
    "for i in [1148, 1149, 1150]: #check for tournaments tomorrow, July 13\n",
    "    tournament(i)\n",
    "    createplaystable()\n",
    "    creategamesdata()\n",
    "    for g in games:\n",
    "        print('{:4d} {:4s} {:4s} {:3d} {:+1.2f}'.format(i, g.id1, g.id2, len(g.dsf), np.mean(g.dsf)), g.dsf)"
   ]
  },
  {
   "cell_type": "code",
   "execution_count": null,
   "metadata": {
    "collapsed": true
   },
   "outputs": [],
   "source": []
  }
 ],
 "metadata": {
  "kernelspec": {
   "display_name": "Python 3",
   "language": "python",
   "name": "python3"
  },
  "language_info": {
   "codemirror_mode": {
    "name": "ipython",
    "version": 3
   },
   "file_extension": ".py",
   "mimetype": "text/x-python",
   "name": "python",
   "nbconvert_exporter": "python",
   "pygments_lexer": "ipython3",
   "version": "3.6.3"
  }
 },
 "nbformat": 4,
 "nbformat_minor": 2
}
